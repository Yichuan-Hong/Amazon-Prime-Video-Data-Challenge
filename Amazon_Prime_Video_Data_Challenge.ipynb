{
  "nbformat": 4,
  "nbformat_minor": 0,
  "metadata": {
    "colab": {
      "name": "Amazon Prime Video Data Challenge.ipynb",
      "provenance": [],
      "collapsed_sections": []
    },
    "kernelspec": {
      "name": "python3",
      "display_name": "Python 3"
    },
    "language_info": {
      "name": "python"
    }
  },
  "cells": [
    {
      "cell_type": "code",
      "metadata": {
        "id": "DsMzP4KlyW2W"
      },
      "source": [
        "import numpy as np\n",
        "import pandas as pd\n",
        "import seaborn as sns\n",
        "import matplotlib.pyplot as plt"
      ],
      "execution_count": 3,
      "outputs": []
    },
    {
      "cell_type": "code",
      "metadata": {
        "id": "HEsQO43ozuoh"
      },
      "source": [
        "!pip install -U -q PyDrive\n",
        "\n",
        "from pydrive.auth import GoogleAuth\n",
        "from pydrive.drive import GoogleDrive\n",
        "from google.colab import auth\n",
        "from oauth2client.client import GoogleCredentials\n",
        "\n",
        "auth.authenticate_user()\n",
        "gauth = GoogleAuth()\n",
        "gauth.credentials = GoogleCredentials.get_application_default()\n",
        "drive = GoogleDrive(gauth)"
      ],
      "execution_count": 4,
      "outputs": []
    },
    {
      "cell_type": "code",
      "metadata": {
        "id": "LkaGkOnKy5Pz"
      },
      "source": [
        "# Amazon Prime Video dataset\n",
        "# https://drive.google.com/file/d/1hLybYcNigdYXf8ECbMZQlnIo2GCvIkvn/view?usp=sharing\n",
        "id = \"1hLybYcNigdYXf8ECbMZQlnIo2GCvIkvn\"\n",
        "file = drive.CreateFile({'id':id}) \n",
        "file.GetContentFile('TVdata.txt')\n",
        "df = pd.read_csv('TVdata.txt')"
      ],
      "execution_count": 5,
      "outputs": []
    },
    {
      "cell_type": "code",
      "metadata": {
        "colab": {
          "base_uri": "https://localhost:8080/"
        },
        "id": "uLNTyhoEz6V4",
        "outputId": "e21fe4dc-3f0a-4e9b-e02f-5220ce6d25c0"
      },
      "source": [
        "df.info()"
      ],
      "execution_count": 6,
      "outputs": [
        {
          "output_type": "stream",
          "name": "stdout",
          "text": [
            "<class 'pandas.core.frame.DataFrame'>\n",
            "RangeIndex: 4226 entries, 0 to 4225\n",
            "Data columns (total 16 columns):\n",
            " #   Column                         Non-Null Count  Dtype  \n",
            "---  ------                         --------------  -----  \n",
            " 0   video_id                       4226 non-null   int64  \n",
            " 1   cvt_per_day                    4226 non-null   float64\n",
            " 2   weighted_categorical_position  4226 non-null   int64  \n",
            " 3   weighted_horizontal_poition    4226 non-null   int64  \n",
            " 4   import_id                      4226 non-null   object \n",
            " 5   release_year                   4226 non-null   int64  \n",
            " 6   genres                         4226 non-null   object \n",
            " 7   imdb_votes                     4226 non-null   int64  \n",
            " 8   budget                         4226 non-null   int64  \n",
            " 9   boxoffice                      4226 non-null   int64  \n",
            " 10  imdb_rating                    4226 non-null   float64\n",
            " 11  duration_in_mins               4226 non-null   float64\n",
            " 12  metacritic_score               4226 non-null   int64  \n",
            " 13  awards                         4226 non-null   object \n",
            " 14  mpaa                           4226 non-null   object \n",
            " 15  star_category                  4226 non-null   float64\n",
            "dtypes: float64(4), int64(8), object(4)\n",
            "memory usage: 528.4+ KB\n"
          ]
        }
      ]
    },
    {
      "cell_type": "code",
      "metadata": {
        "colab": {
          "base_uri": "https://localhost:8080/",
          "height": 314
        },
        "id": "FXxtKT4_z2QT",
        "outputId": "fec492fc-4561-45d3-93d7-6bfa42fcab3d"
      },
      "source": [
        "# imdb_votes, budget, boxoffice, imdb_rating, metacritic_score, star_category have missing values\n",
        "# because their min is 0\n",
        "df.describe()"
      ],
      "execution_count": 7,
      "outputs": [
        {
          "output_type": "execute_result",
          "data": {
            "text/html": [
              "<div>\n",
              "<style scoped>\n",
              "    .dataframe tbody tr th:only-of-type {\n",
              "        vertical-align: middle;\n",
              "    }\n",
              "\n",
              "    .dataframe tbody tr th {\n",
              "        vertical-align: top;\n",
              "    }\n",
              "\n",
              "    .dataframe thead th {\n",
              "        text-align: right;\n",
              "    }\n",
              "</style>\n",
              "<table border=\"1\" class=\"dataframe\">\n",
              "  <thead>\n",
              "    <tr style=\"text-align: right;\">\n",
              "      <th></th>\n",
              "      <th>video_id</th>\n",
              "      <th>cvt_per_day</th>\n",
              "      <th>weighted_categorical_position</th>\n",
              "      <th>weighted_horizontal_poition</th>\n",
              "      <th>release_year</th>\n",
              "      <th>imdb_votes</th>\n",
              "      <th>budget</th>\n",
              "      <th>boxoffice</th>\n",
              "      <th>imdb_rating</th>\n",
              "      <th>duration_in_mins</th>\n",
              "      <th>metacritic_score</th>\n",
              "      <th>star_category</th>\n",
              "    </tr>\n",
              "  </thead>\n",
              "  <tbody>\n",
              "    <tr>\n",
              "      <th>count</th>\n",
              "      <td>4226.000000</td>\n",
              "      <td>4226.000000</td>\n",
              "      <td>4226.000000</td>\n",
              "      <td>4226.000000</td>\n",
              "      <td>4226.000000</td>\n",
              "      <td>4226.000000</td>\n",
              "      <td>4.226000e+03</td>\n",
              "      <td>4.226000e+03</td>\n",
              "      <td>4226.000000</td>\n",
              "      <td>4226.000000</td>\n",
              "      <td>4226.000000</td>\n",
              "      <td>4226.000000</td>\n",
              "    </tr>\n",
              "    <tr>\n",
              "      <th>mean</th>\n",
              "      <td>280371.162565</td>\n",
              "      <td>4218.630239</td>\n",
              "      <td>7.782537</td>\n",
              "      <td>28.103644</td>\n",
              "      <td>2001.056791</td>\n",
              "      <td>6462.924042</td>\n",
              "      <td>2.150743e+06</td>\n",
              "      <td>2.536338e+06</td>\n",
              "      <td>5.257099</td>\n",
              "      <td>89.556123</td>\n",
              "      <td>15.973734</td>\n",
              "      <td>0.954651</td>\n",
              "    </tr>\n",
              "    <tr>\n",
              "      <th>std</th>\n",
              "      <td>112640.127822</td>\n",
              "      <td>13036.079964</td>\n",
              "      <td>6.134183</td>\n",
              "      <td>11.863649</td>\n",
              "      <td>17.496849</td>\n",
              "      <td>31596.006790</td>\n",
              "      <td>7.176604e+06</td>\n",
              "      <td>8.243516e+06</td>\n",
              "      <td>2.122810</td>\n",
              "      <td>21.086183</td>\n",
              "      <td>26.205217</td>\n",
              "      <td>0.955045</td>\n",
              "    </tr>\n",
              "    <tr>\n",
              "      <th>min</th>\n",
              "      <td>7909.000000</td>\n",
              "      <td>2.187625</td>\n",
              "      <td>1.000000</td>\n",
              "      <td>1.000000</td>\n",
              "      <td>1916.000000</td>\n",
              "      <td>0.000000</td>\n",
              "      <td>0.000000e+00</td>\n",
              "      <td>0.000000e+00</td>\n",
              "      <td>0.000000</td>\n",
              "      <td>4.037250</td>\n",
              "      <td>0.000000</td>\n",
              "      <td>0.000000</td>\n",
              "    </tr>\n",
              "    <tr>\n",
              "      <th>25%</th>\n",
              "      <td>285104.250000</td>\n",
              "      <td>351.168776</td>\n",
              "      <td>4.000000</td>\n",
              "      <td>20.000000</td>\n",
              "      <td>1998.000000</td>\n",
              "      <td>81.000000</td>\n",
              "      <td>0.000000e+00</td>\n",
              "      <td>0.000000e+00</td>\n",
              "      <td>4.300000</td>\n",
              "      <td>82.601712</td>\n",
              "      <td>0.000000</td>\n",
              "      <td>0.000000</td>\n",
              "    </tr>\n",
              "    <tr>\n",
              "      <th>50%</th>\n",
              "      <td>313891.500000</td>\n",
              "      <td>1193.499989</td>\n",
              "      <td>6.000000</td>\n",
              "      <td>28.000000</td>\n",
              "      <td>2008.000000</td>\n",
              "      <td>535.000000</td>\n",
              "      <td>0.000000e+00</td>\n",
              "      <td>0.000000e+00</td>\n",
              "      <td>5.800000</td>\n",
              "      <td>90.730308</td>\n",
              "      <td>0.000000</td>\n",
              "      <td>1.000000</td>\n",
              "    </tr>\n",
              "    <tr>\n",
              "      <th>75%</th>\n",
              "      <td>349345.750000</td>\n",
              "      <td>3356.788816</td>\n",
              "      <td>9.000000</td>\n",
              "      <td>36.000000</td>\n",
              "      <td>2012.000000</td>\n",
              "      <td>3053.000000</td>\n",
              "      <td>1.500000e+06</td>\n",
              "      <td>0.000000e+00</td>\n",
              "      <td>6.800000</td>\n",
              "      <td>99.500312</td>\n",
              "      <td>41.000000</td>\n",
              "      <td>1.666667</td>\n",
              "    </tr>\n",
              "    <tr>\n",
              "      <th>max</th>\n",
              "      <td>394880.000000</td>\n",
              "      <td>307127.605608</td>\n",
              "      <td>41.000000</td>\n",
              "      <td>70.000000</td>\n",
              "      <td>2017.000000</td>\n",
              "      <td>948630.000000</td>\n",
              "      <td>1.070000e+08</td>\n",
              "      <td>1.842088e+08</td>\n",
              "      <td>10.000000</td>\n",
              "      <td>246.016767</td>\n",
              "      <td>100.000000</td>\n",
              "      <td>4.000000</td>\n",
              "    </tr>\n",
              "  </tbody>\n",
              "</table>\n",
              "</div>"
            ],
            "text/plain": [
              "            video_id    cvt_per_day  ...  metacritic_score  star_category\n",
              "count    4226.000000    4226.000000  ...       4226.000000    4226.000000\n",
              "mean   280371.162565    4218.630239  ...         15.973734       0.954651\n",
              "std    112640.127822   13036.079964  ...         26.205217       0.955045\n",
              "min      7909.000000       2.187625  ...          0.000000       0.000000\n",
              "25%    285104.250000     351.168776  ...          0.000000       0.000000\n",
              "50%    313891.500000    1193.499989  ...          0.000000       1.000000\n",
              "75%    349345.750000    3356.788816  ...         41.000000       1.666667\n",
              "max    394880.000000  307127.605608  ...        100.000000       4.000000\n",
              "\n",
              "[8 rows x 12 columns]"
            ]
          },
          "metadata": {},
          "execution_count": 7
        }
      ]
    },
    {
      "cell_type": "code",
      "metadata": {
        "colab": {
          "base_uri": "https://localhost:8080/",
          "height": 288
        },
        "id": "IG9RzfEHfqJj",
        "outputId": "0758d567-d746-4d6f-a698-ee105f2c34ae"
      },
      "source": [
        "df.head()"
      ],
      "execution_count": 8,
      "outputs": [
        {
          "output_type": "execute_result",
          "data": {
            "text/html": [
              "<div>\n",
              "<style scoped>\n",
              "    .dataframe tbody tr th:only-of-type {\n",
              "        vertical-align: middle;\n",
              "    }\n",
              "\n",
              "    .dataframe tbody tr th {\n",
              "        vertical-align: top;\n",
              "    }\n",
              "\n",
              "    .dataframe thead th {\n",
              "        text-align: right;\n",
              "    }\n",
              "</style>\n",
              "<table border=\"1\" class=\"dataframe\">\n",
              "  <thead>\n",
              "    <tr style=\"text-align: right;\">\n",
              "      <th></th>\n",
              "      <th>video_id</th>\n",
              "      <th>cvt_per_day</th>\n",
              "      <th>weighted_categorical_position</th>\n",
              "      <th>weighted_horizontal_poition</th>\n",
              "      <th>import_id</th>\n",
              "      <th>release_year</th>\n",
              "      <th>genres</th>\n",
              "      <th>imdb_votes</th>\n",
              "      <th>budget</th>\n",
              "      <th>boxoffice</th>\n",
              "      <th>imdb_rating</th>\n",
              "      <th>duration_in_mins</th>\n",
              "      <th>metacritic_score</th>\n",
              "      <th>awards</th>\n",
              "      <th>mpaa</th>\n",
              "      <th>star_category</th>\n",
              "    </tr>\n",
              "  </thead>\n",
              "  <tbody>\n",
              "    <tr>\n",
              "      <th>0</th>\n",
              "      <td>385504</td>\n",
              "      <td>307127.605608</td>\n",
              "      <td>1</td>\n",
              "      <td>3</td>\n",
              "      <td>lionsgate</td>\n",
              "      <td>2013</td>\n",
              "      <td>Action,Thriller,Drama</td>\n",
              "      <td>69614</td>\n",
              "      <td>15000000</td>\n",
              "      <td>42930462</td>\n",
              "      <td>6.5</td>\n",
              "      <td>112.301017</td>\n",
              "      <td>51</td>\n",
              "      <td>other award</td>\n",
              "      <td>PG-13</td>\n",
              "      <td>1.710000</td>\n",
              "    </tr>\n",
              "    <tr>\n",
              "      <th>1</th>\n",
              "      <td>300175</td>\n",
              "      <td>270338.426375</td>\n",
              "      <td>1</td>\n",
              "      <td>3</td>\n",
              "      <td>lionsgate</td>\n",
              "      <td>2013</td>\n",
              "      <td>Comedy,Crime,Thriller</td>\n",
              "      <td>46705</td>\n",
              "      <td>15000000</td>\n",
              "      <td>3301046</td>\n",
              "      <td>6.5</td>\n",
              "      <td>94.983250</td>\n",
              "      <td>41</td>\n",
              "      <td>no award</td>\n",
              "      <td>R</td>\n",
              "      <td>3.250000</td>\n",
              "    </tr>\n",
              "    <tr>\n",
              "      <th>2</th>\n",
              "      <td>361899</td>\n",
              "      <td>256165.867446</td>\n",
              "      <td>1</td>\n",
              "      <td>3</td>\n",
              "      <td>other</td>\n",
              "      <td>2012</td>\n",
              "      <td>Crime,Drama</td>\n",
              "      <td>197596</td>\n",
              "      <td>26000000</td>\n",
              "      <td>37397291</td>\n",
              "      <td>7.3</td>\n",
              "      <td>115.763675</td>\n",
              "      <td>58</td>\n",
              "      <td>other award</td>\n",
              "      <td>R</td>\n",
              "      <td>2.646667</td>\n",
              "    </tr>\n",
              "    <tr>\n",
              "      <th>3</th>\n",
              "      <td>308314</td>\n",
              "      <td>196622.720996</td>\n",
              "      <td>3</td>\n",
              "      <td>4</td>\n",
              "      <td>lionsgate</td>\n",
              "      <td>2008</td>\n",
              "      <td>Thriller,Drama,War,Documentary,Mystery,Action</td>\n",
              "      <td>356339</td>\n",
              "      <td>15000000</td>\n",
              "      <td>15700000</td>\n",
              "      <td>7.6</td>\n",
              "      <td>130.703583</td>\n",
              "      <td>94</td>\n",
              "      <td>Oscar</td>\n",
              "      <td>R</td>\n",
              "      <td>1.666667</td>\n",
              "    </tr>\n",
              "    <tr>\n",
              "      <th>4</th>\n",
              "      <td>307201</td>\n",
              "      <td>159841.652064</td>\n",
              "      <td>1</td>\n",
              "      <td>3</td>\n",
              "      <td>lionsgate</td>\n",
              "      <td>2013</td>\n",
              "      <td>Crime,Thriller,Mystery,Documentary</td>\n",
              "      <td>46720</td>\n",
              "      <td>27220000</td>\n",
              "      <td>8551228</td>\n",
              "      <td>6.4</td>\n",
              "      <td>105.545533</td>\n",
              "      <td>37</td>\n",
              "      <td>other award</td>\n",
              "      <td>R</td>\n",
              "      <td>3.066667</td>\n",
              "    </tr>\n",
              "  </tbody>\n",
              "</table>\n",
              "</div>"
            ],
            "text/plain": [
              "   video_id    cvt_per_day  ...   mpaa  star_category\n",
              "0    385504  307127.605608  ...  PG-13       1.710000\n",
              "1    300175  270338.426375  ...      R       3.250000\n",
              "2    361899  256165.867446  ...      R       2.646667\n",
              "3    308314  196622.720996  ...      R       1.666667\n",
              "4    307201  159841.652064  ...      R       3.066667\n",
              "\n",
              "[5 rows x 16 columns]"
            ]
          },
          "metadata": {},
          "execution_count": 8
        }
      ]
    },
    {
      "cell_type": "code",
      "metadata": {
        "colab": {
          "base_uri": "https://localhost:8080/",
          "height": 368
        },
        "id": "JovHPtoh0SNy",
        "outputId": "212642ac-4706-46f4-ff03-229282768f39"
      },
      "source": [
        "# data exploration\n",
        "sns.displot(data=df, x='cvt_per_day', kde=True, color='red')\n",
        "plt.xlim(0, 15000)\n",
        "plt.show()"
      ],
      "execution_count": 9,
      "outputs": [
        {
          "output_type": "display_data",
          "data": {
            "image/png": "[encoded data removed]",
            "text/plain": [
              "<Figure size 360x360 with 1 Axes>"
            ]
          },
          "metadata": {
            "needs_background": "light"
          }
        }
      ]
    },
    {
      "cell_type": "code",
      "metadata": {
        "colab": {
          "base_uri": "https://localhost:8080/",
          "height": 297
        },
        "id": "6UitiYBQkphv",
        "outputId": "5f329ada-7028-47ca-b5d2-29b3ce5917c6"
      },
      "source": [
        "sns.kdeplot(data=df, x='cvt_per_day')"
      ],
      "execution_count": 10,
      "outputs": [
        {
          "output_type": "execute_result",
          "data": {
            "text/plain": [
              "<matplotlib.axes._subplots.AxesSubplot at 0x7fdfc31de7d0>"
            ]
          },
          "metadata": {},
          "execution_count": 10
        },
        {
          "output_type": "display_data",
          "data": {
            "image/png": "[encoded data removed]",
            "text/plain": [
              "<Figure size 432x288 with 1 Axes>"
            ]
          },
          "metadata": {
            "needs_background": "light"
          }
        }
      ]
    },
    {
      "cell_type": "code",
      "metadata": {
        "colab": {
          "base_uri": "https://localhost:8080/",
          "height": 751
        },
        "id": "akksPFJl4Ge6",
        "outputId": "cf341bc1-9000-45c4-d4e0-84abaec44e3d"
      },
      "source": [
        "corr = df.corr()\n",
        "mask = np.triu(np.ones_like(corr, dtype=bool))\n",
        "cmap = sns.diverging_palette(230, 20, as_cmap=True)\n",
        "_, axss = plt.subplots(figsize=[15,10])\n",
        "sns.heatmap(corr, mask=mask, cmap=cmap, vmax=.3, center=0,\n",
        "            square=True, linewidths=.5, cbar_kws={\"shrink\": .5})"
      ],
      "execution_count": 11,
      "outputs": [
        {
          "output_type": "execute_result",
          "data": {
            "text/plain": [
              "<matplotlib.axes._subplots.AxesSubplot at 0x7fdfc31795d0>"
            ]
          },
          "metadata": {},
          "execution_count": 11
        },
        {
          "output_type": "display_data",
          "data": {
            "image/png": "[encoded data removed]",
            "text/plain": [
              "<Figure size 1080x720 with 2 Axes>"
            ]
          },
          "metadata": {
            "needs_background": "light"
          }
        }
      ]
    },
    {
      "cell_type": "code",
      "metadata": {
        "colab": {
          "base_uri": "https://localhost:8080/",
          "height": 436
        },
        "id": "7sekr8ttiLUn",
        "outputId": "e96653ed-cff0-4d24-fed1-d54fc158d653"
      },
      "source": [
        "corr"
      ],
      "execution_count": 12,
      "outputs": [
        {
          "output_type": "execute_result",
          "data": {
            "text/html": [
              "<div>\n",
              "<style scoped>\n",
              "    .dataframe tbody tr th:only-of-type {\n",
              "        vertical-align: middle;\n",
              "    }\n",
              "\n",
              "    .dataframe tbody tr th {\n",
              "        vertical-align: top;\n",
              "    }\n",
              "\n",
              "    .dataframe thead th {\n",
              "        text-align: right;\n",
              "    }\n",
              "</style>\n",
              "<table border=\"1\" class=\"dataframe\">\n",
              "  <thead>\n",
              "    <tr style=\"text-align: right;\">\n",
              "      <th></th>\n",
              "      <th>video_id</th>\n",
              "      <th>cvt_per_day</th>\n",
              "      <th>weighted_categorical_position</th>\n",
              "      <th>weighted_horizontal_poition</th>\n",
              "      <th>release_year</th>\n",
              "      <th>imdb_votes</th>\n",
              "      <th>budget</th>\n",
              "      <th>boxoffice</th>\n",
              "      <th>imdb_rating</th>\n",
              "      <th>duration_in_mins</th>\n",
              "      <th>metacritic_score</th>\n",
              "      <th>star_category</th>\n",
              "    </tr>\n",
              "  </thead>\n",
              "  <tbody>\n",
              "    <tr>\n",
              "      <th>video_id</th>\n",
              "      <td>1.000000</td>\n",
              "      <td>0.122352</td>\n",
              "      <td>0.050145</td>\n",
              "      <td>-0.067163</td>\n",
              "      <td>0.231145</td>\n",
              "      <td>0.047766</td>\n",
              "      <td>0.088285</td>\n",
              "      <td>0.071539</td>\n",
              "      <td>-0.099815</td>\n",
              "      <td>0.023838</td>\n",
              "      <td>0.063930</td>\n",
              "      <td>0.170079</td>\n",
              "    </tr>\n",
              "    <tr>\n",
              "      <th>cvt_per_day</th>\n",
              "      <td>0.122352</td>\n",
              "      <td>1.000000</td>\n",
              "      <td>-0.148000</td>\n",
              "      <td>-0.301663</td>\n",
              "      <td>0.045859</td>\n",
              "      <td>0.297697</td>\n",
              "      <td>0.315886</td>\n",
              "      <td>0.312209</td>\n",
              "      <td>0.058894</td>\n",
              "      <td>0.152217</td>\n",
              "      <td>0.249159</td>\n",
              "      <td>0.246956</td>\n",
              "    </tr>\n",
              "    <tr>\n",
              "      <th>weighted_categorical_position</th>\n",
              "      <td>0.050145</td>\n",
              "      <td>-0.148000</td>\n",
              "      <td>1.000000</td>\n",
              "      <td>-0.084066</td>\n",
              "      <td>-0.068902</td>\n",
              "      <td>-0.063700</td>\n",
              "      <td>-0.089899</td>\n",
              "      <td>-0.073628</td>\n",
              "      <td>-0.116443</td>\n",
              "      <td>-0.174461</td>\n",
              "      <td>-0.044317</td>\n",
              "      <td>-0.122851</td>\n",
              "    </tr>\n",
              "    <tr>\n",
              "      <th>weighted_horizontal_poition</th>\n",
              "      <td>-0.067163</td>\n",
              "      <td>-0.301663</td>\n",
              "      <td>-0.084066</td>\n",
              "      <td>1.000000</td>\n",
              "      <td>0.026634</td>\n",
              "      <td>-0.220749</td>\n",
              "      <td>-0.211356</td>\n",
              "      <td>-0.244709</td>\n",
              "      <td>-0.162021</td>\n",
              "      <td>-0.102344</td>\n",
              "      <td>-0.255015</td>\n",
              "      <td>-0.167801</td>\n",
              "    </tr>\n",
              "    <tr>\n",
              "      <th>release_year</th>\n",
              "      <td>0.231145</td>\n",
              "      <td>0.045859</td>\n",
              "      <td>-0.068902</td>\n",
              "      <td>0.026634</td>\n",
              "      <td>1.000000</td>\n",
              "      <td>-0.082661</td>\n",
              "      <td>-0.040121</td>\n",
              "      <td>-0.128091</td>\n",
              "      <td>-0.198856</td>\n",
              "      <td>-0.096811</td>\n",
              "      <td>-0.167038</td>\n",
              "      <td>-0.198454</td>\n",
              "    </tr>\n",
              "    <tr>\n",
              "      <th>imdb_votes</th>\n",
              "      <td>0.047766</td>\n",
              "      <td>0.297697</td>\n",
              "      <td>-0.063700</td>\n",
              "      <td>-0.220749</td>\n",
              "      <td>-0.082661</td>\n",
              "      <td>1.000000</td>\n",
              "      <td>0.272852</td>\n",
              "      <td>0.531467</td>\n",
              "      <td>0.163264</td>\n",
              "      <td>0.155670</td>\n",
              "      <td>0.321860</td>\n",
              "      <td>0.225192</td>\n",
              "    </tr>\n",
              "    <tr>\n",
              "      <th>budget</th>\n",
              "      <td>0.088285</td>\n",
              "      <td>0.315886</td>\n",
              "      <td>-0.089899</td>\n",
              "      <td>-0.211356</td>\n",
              "      <td>-0.040121</td>\n",
              "      <td>0.272852</td>\n",
              "      <td>1.000000</td>\n",
              "      <td>0.504618</td>\n",
              "      <td>0.105671</td>\n",
              "      <td>0.251342</td>\n",
              "      <td>0.314608</td>\n",
              "      <td>0.321721</td>\n",
              "    </tr>\n",
              "    <tr>\n",
              "      <th>boxoffice</th>\n",
              "      <td>0.071539</td>\n",
              "      <td>0.312209</td>\n",
              "      <td>-0.073628</td>\n",
              "      <td>-0.244709</td>\n",
              "      <td>-0.128091</td>\n",
              "      <td>0.531467</td>\n",
              "      <td>0.504618</td>\n",
              "      <td>1.000000</td>\n",
              "      <td>0.163673</td>\n",
              "      <td>0.226184</td>\n",
              "      <td>0.464965</td>\n",
              "      <td>0.322329</td>\n",
              "    </tr>\n",
              "    <tr>\n",
              "      <th>imdb_rating</th>\n",
              "      <td>-0.099815</td>\n",
              "      <td>0.058894</td>\n",
              "      <td>-0.116443</td>\n",
              "      <td>-0.162021</td>\n",
              "      <td>-0.198856</td>\n",
              "      <td>0.163264</td>\n",
              "      <td>0.105671</td>\n",
              "      <td>0.163673</td>\n",
              "      <td>1.000000</td>\n",
              "      <td>0.344055</td>\n",
              "      <td>0.346935</td>\n",
              "      <td>0.191768</td>\n",
              "    </tr>\n",
              "    <tr>\n",
              "      <th>duration_in_mins</th>\n",
              "      <td>0.023838</td>\n",
              "      <td>0.152217</td>\n",
              "      <td>-0.174461</td>\n",
              "      <td>-0.102344</td>\n",
              "      <td>-0.096811</td>\n",
              "      <td>0.155670</td>\n",
              "      <td>0.251342</td>\n",
              "      <td>0.226184</td>\n",
              "      <td>0.344055</td>\n",
              "      <td>1.000000</td>\n",
              "      <td>0.327050</td>\n",
              "      <td>0.309110</td>\n",
              "    </tr>\n",
              "    <tr>\n",
              "      <th>metacritic_score</th>\n",
              "      <td>0.063930</td>\n",
              "      <td>0.249159</td>\n",
              "      <td>-0.044317</td>\n",
              "      <td>-0.255015</td>\n",
              "      <td>-0.167038</td>\n",
              "      <td>0.321860</td>\n",
              "      <td>0.314608</td>\n",
              "      <td>0.464965</td>\n",
              "      <td>0.346935</td>\n",
              "      <td>0.327050</td>\n",
              "      <td>1.000000</td>\n",
              "      <td>0.452445</td>\n",
              "    </tr>\n",
              "    <tr>\n",
              "      <th>star_category</th>\n",
              "      <td>0.170079</td>\n",
              "      <td>0.246956</td>\n",
              "      <td>-0.122851</td>\n",
              "      <td>-0.167801</td>\n",
              "      <td>-0.198454</td>\n",
              "      <td>0.225192</td>\n",
              "      <td>0.321721</td>\n",
              "      <td>0.322329</td>\n",
              "      <td>0.191768</td>\n",
              "      <td>0.309110</td>\n",
              "      <td>0.452445</td>\n",
              "      <td>1.000000</td>\n",
              "    </tr>\n",
              "  </tbody>\n",
              "</table>\n",
              "</div>"
            ],
            "text/plain": [
              "                               video_id  ...  star_category\n",
              "video_id                       1.000000  ...       0.170079\n",
              "cvt_per_day                    0.122352  ...       0.246956\n",
              "weighted_categorical_position  0.050145  ...      -0.122851\n",
              "weighted_horizontal_poition   -0.067163  ...      -0.167801\n",
              "release_year                   0.231145  ...      -0.198454\n",
              "imdb_votes                     0.047766  ...       0.225192\n",
              "budget                         0.088285  ...       0.321721\n",
              "boxoffice                      0.071539  ...       0.322329\n",
              "imdb_rating                   -0.099815  ...       0.191768\n",
              "duration_in_mins               0.023838  ...       0.309110\n",
              "metacritic_score               0.063930  ...       0.452445\n",
              "star_category                  0.170079  ...       1.000000\n",
              "\n",
              "[12 rows x 12 columns]"
            ]
          },
          "metadata": {},
          "execution_count": 12
        }
      ]
    },
    {
      "cell_type": "code",
      "metadata": {
        "id": "2Jq0n06ZnpcY"
      },
      "source": [
        "# imdb_votes, budget, boxoffice, imdb_rating, metacritic_score, star_category\n",
        "# change 0 to na\n",
        "df[['budget','boxoffice','metacritic_score', 'star_category','imdb_votes', 'imdb_rating']] = df[['budget','boxoffice','metacritic_score', 'star_category','imdb_votes', 'imdb_rating']].replace(0, np.nan)"
      ],
      "execution_count": 13,
      "outputs": []
    },
    {
      "cell_type": "code",
      "metadata": {
        "id": "-HoaKggtpmF_"
      },
      "source": [
        "# fill na with mean value\n",
        "df['boxoffice'] = df['boxoffice'].fillna(df['boxoffice'].mean())\n",
        "df['metacritic_score'] = df['metacritic_score'].fillna(df['metacritic_score'].mean())\n",
        "df['star_category'] = df['star_category'].fillna(df['star_category'].mean())\n",
        "df['imdb_votes'] = df['imdb_votes'].fillna(df['imdb_votes'].mean())\n",
        "df['imdb_rating'] = df['imdb_rating'].fillna(df['imdb_rating'].mean())\n",
        "df['budget'] = df['budget'].fillna(df['budget'].mean())"
      ],
      "execution_count": 14,
      "outputs": []
    },
    {
      "cell_type": "code",
      "metadata": {
        "colab": {
          "base_uri": "https://localhost:8080/"
        },
        "id": "SHdQBeIep9qL",
        "outputId": "2171c2c1-2422-4861-a63d-db87e76999cf"
      },
      "source": [
        "df.info()"
      ],
      "execution_count": 15,
      "outputs": [
        {
          "output_type": "stream",
          "name": "stdout",
          "text": [
            "<class 'pandas.core.frame.DataFrame'>\n",
            "RangeIndex: 4226 entries, 0 to 4225\n",
            "Data columns (total 16 columns):\n",
            " #   Column                         Non-Null Count  Dtype  \n",
            "---  ------                         --------------  -----  \n",
            " 0   video_id                       4226 non-null   int64  \n",
            " 1   cvt_per_day                    4226 non-null   float64\n",
            " 2   weighted_categorical_position  4226 non-null   int64  \n",
            " 3   weighted_horizontal_poition    4226 non-null   int64  \n",
            " 4   import_id                      4226 non-null   object \n",
            " 5   release_year                   4226 non-null   int64  \n",
            " 6   genres                         4226 non-null   object \n",
            " 7   imdb_votes                     4226 non-null   float64\n",
            " 8   budget                         4226 non-null   float64\n",
            " 9   boxoffice                      4226 non-null   float64\n",
            " 10  imdb_rating                    4226 non-null   float64\n",
            " 11  duration_in_mins               4226 non-null   float64\n",
            " 12  metacritic_score               4226 non-null   float64\n",
            " 13  awards                         4226 non-null   object \n",
            " 14  mpaa                           4226 non-null   object \n",
            " 15  star_category                  4226 non-null   float64\n",
            "dtypes: float64(8), int64(4), object(4)\n",
            "memory usage: 528.4+ KB\n"
          ]
        }
      ]
    },
    {
      "cell_type": "code",
      "metadata": {
        "id": "TpsqjH-Z-279"
      },
      "source": [
        "# transfer genres to multiple columns\n",
        "for i in range(len(df)):\n",
        "    cur = df.loc[i, 'genres'].split(',')\n",
        "    for category in cur:\n",
        "        if category not in df.columns:\n",
        "            df[category] = 0\n",
        "        df.loc[i, category] = 1\n",
        "df.drop(labels='genres', axis=1, inplace=True)"
      ],
      "execution_count": 16,
      "outputs": []
    },
    {
      "cell_type": "code",
      "metadata": {
        "id": "ScYsFUnfOuEk"
      },
      "source": [
        "# awards 'other award', 'no award', 'Oscar', 'Golden Globe', 'BAFTA'\n",
        "# mpaa 'PG-13', 'R', 'PG', 'NC-17', 'NotRated', 'G'\n",
        "# import_id 'lionsgate', 'other', 'mgm', 'paramount'\n",
        "from sklearn.preprocessing import OneHotEncoder\n",
        "\n",
        "def OneHotEncoding(df, enc, categories):  \n",
        "    transformed = pd.DataFrame(enc.transform(df[categories]).toarray(), columns=enc.get_feature_names(categories))\n",
        "    return pd.concat([df.reset_index(drop=True), transformed], axis=1).drop(categories, axis=1)"
      ],
      "execution_count": 17,
      "outputs": []
    },
    {
      "cell_type": "code",
      "metadata": {
        "id": "M4Y9dv3SsAkE"
      },
      "source": [
        "# one hot encoding\n",
        "# awards 'other award', 'no award', 'Oscar', 'Golden Globe', 'BAFTA'\n",
        "categories = ['awards']\n",
        "enc_ohe = OneHotEncoder()\n",
        "enc_ohe.fit(df[categories])\n",
        "\n",
        "df = OneHotEncoding(df, enc_ohe, categories)"
      ],
      "execution_count": 18,
      "outputs": []
    },
    {
      "cell_type": "code",
      "metadata": {
        "id": "D5ujdS4vsdij"
      },
      "source": [
        "# mpaa 'PG-13', 'R', 'PG', 'NC-17', 'NotRated', 'G'\n",
        "categories = ['mpaa']\n",
        "enc_ohe = OneHotEncoder()\n",
        "enc_ohe.fit(df[categories])\n",
        "\n",
        "df = OneHotEncoding(df, enc_ohe, categories)"
      ],
      "execution_count": 19,
      "outputs": []
    },
    {
      "cell_type": "code",
      "metadata": {
        "id": "bYvEKq2vsgFV"
      },
      "source": [
        "# import_id 'lionsgate', 'other', 'mgm', 'paramount'\n",
        "categories = ['import_id']\n",
        "enc_ohe = OneHotEncoder()\n",
        "enc_ohe.fit(df[categories])\n",
        "\n",
        "df = OneHotEncoding(df, enc_ohe, categories)"
      ],
      "execution_count": 20,
      "outputs": []
    },
    {
      "cell_type": "code",
      "metadata": {
        "colab": {
          "base_uri": "https://localhost:8080/",
          "height": 238
        },
        "id": "kIg6FWs6s6Tl",
        "outputId": "217c8efb-c15c-427c-d753-4d8bf8a55e69"
      },
      "source": [
        "df.head()"
      ],
      "execution_count": 21,
      "outputs": [
        {
          "output_type": "execute_result",
          "data": {
            "text/html": [
              "<div>\n",
              "<style scoped>\n",
              "    .dataframe tbody tr th:only-of-type {\n",
              "        vertical-align: middle;\n",
              "    }\n",
              "\n",
              "    .dataframe tbody tr th {\n",
              "        vertical-align: top;\n",
              "    }\n",
              "\n",
              "    .dataframe thead th {\n",
              "        text-align: right;\n",
              "    }\n",
              "</style>\n",
              "<table border=\"1\" class=\"dataframe\">\n",
              "  <thead>\n",
              "    <tr style=\"text-align: right;\">\n",
              "      <th></th>\n",
              "      <th>video_id</th>\n",
              "      <th>cvt_per_day</th>\n",
              "      <th>weighted_categorical_position</th>\n",
              "      <th>weighted_horizontal_poition</th>\n",
              "      <th>release_year</th>\n",
              "      <th>imdb_votes</th>\n",
              "      <th>budget</th>\n",
              "      <th>boxoffice</th>\n",
              "      <th>imdb_rating</th>\n",
              "      <th>duration_in_mins</th>\n",
              "      <th>metacritic_score</th>\n",
              "      <th>star_category</th>\n",
              "      <th>Action</th>\n",
              "      <th>Thriller</th>\n",
              "      <th>Drama</th>\n",
              "      <th>Comedy</th>\n",
              "      <th>Crime</th>\n",
              "      <th>War</th>\n",
              "      <th>Documentary</th>\n",
              "      <th>Mystery</th>\n",
              "      <th>Adventure</th>\n",
              "      <th>Western</th>\n",
              "      <th>Sci-Fi</th>\n",
              "      <th>Fantasy</th>\n",
              "      <th>Horror</th>\n",
              "      <th>Sport</th>\n",
              "      <th>Kids &amp; Family</th>\n",
              "      <th>Animation</th>\n",
              "      <th>Romance</th>\n",
              "      <th>Music</th>\n",
              "      <th>Independent</th>\n",
              "      <th>Musicals</th>\n",
              "      <th>Foreign/International</th>\n",
              "      <th>Lifestyle</th>\n",
              "      <th>Anime</th>\n",
              "      <th>Holiday</th>\n",
              "      <th>LGBT</th>\n",
              "      <th>Reality</th>\n",
              "      <th>Adult</th>\n",
              "      <th>awards_BAFTA</th>\n",
              "      <th>awards_Golden Globe</th>\n",
              "      <th>awards_Oscar</th>\n",
              "      <th>awards_no award</th>\n",
              "      <th>awards_other award</th>\n",
              "      <th>mpaa_G</th>\n",
              "      <th>mpaa_NC-17</th>\n",
              "      <th>mpaa_NotRated</th>\n",
              "      <th>mpaa_PG</th>\n",
              "      <th>mpaa_PG-13</th>\n",
              "      <th>mpaa_R</th>\n",
              "      <th>import_id_lionsgate</th>\n",
              "      <th>import_id_mgm</th>\n",
              "      <th>import_id_other</th>\n",
              "      <th>import_id_paramount</th>\n",
              "    </tr>\n",
              "  </thead>\n",
              "  <tbody>\n",
              "    <tr>\n",
              "      <th>0</th>\n",
              "      <td>385504</td>\n",
              "      <td>307127.605608</td>\n",
              "      <td>1</td>\n",
              "      <td>3</td>\n",
              "      <td>2013</td>\n",
              "      <td>69614.0</td>\n",
              "      <td>15000000.0</td>\n",
              "      <td>42930462.0</td>\n",
              "      <td>6.5</td>\n",
              "      <td>112.301017</td>\n",
              "      <td>51.0</td>\n",
              "      <td>1.710000</td>\n",
              "      <td>1</td>\n",
              "      <td>1</td>\n",
              "      <td>1</td>\n",
              "      <td>0</td>\n",
              "      <td>0</td>\n",
              "      <td>0</td>\n",
              "      <td>0</td>\n",
              "      <td>0</td>\n",
              "      <td>0</td>\n",
              "      <td>0</td>\n",
              "      <td>0</td>\n",
              "      <td>0</td>\n",
              "      <td>0</td>\n",
              "      <td>0</td>\n",
              "      <td>0</td>\n",
              "      <td>0</td>\n",
              "      <td>0</td>\n",
              "      <td>0</td>\n",
              "      <td>0</td>\n",
              "      <td>0</td>\n",
              "      <td>0</td>\n",
              "      <td>0</td>\n",
              "      <td>0</td>\n",
              "      <td>0</td>\n",
              "      <td>0</td>\n",
              "      <td>0</td>\n",
              "      <td>0</td>\n",
              "      <td>0.0</td>\n",
              "      <td>0.0</td>\n",
              "      <td>0.0</td>\n",
              "      <td>0.0</td>\n",
              "      <td>1.0</td>\n",
              "      <td>0.0</td>\n",
              "      <td>0.0</td>\n",
              "      <td>0.0</td>\n",
              "      <td>0.0</td>\n",
              "      <td>1.0</td>\n",
              "      <td>0.0</td>\n",
              "      <td>1.0</td>\n",
              "      <td>0.0</td>\n",
              "      <td>0.0</td>\n",
              "      <td>0.0</td>\n",
              "    </tr>\n",
              "    <tr>\n",
              "      <th>1</th>\n",
              "      <td>300175</td>\n",
              "      <td>270338.426375</td>\n",
              "      <td>1</td>\n",
              "      <td>3</td>\n",
              "      <td>2013</td>\n",
              "      <td>46705.0</td>\n",
              "      <td>15000000.0</td>\n",
              "      <td>3301046.0</td>\n",
              "      <td>6.5</td>\n",
              "      <td>94.983250</td>\n",
              "      <td>41.0</td>\n",
              "      <td>3.250000</td>\n",
              "      <td>0</td>\n",
              "      <td>1</td>\n",
              "      <td>0</td>\n",
              "      <td>1</td>\n",
              "      <td>1</td>\n",
              "      <td>0</td>\n",
              "      <td>0</td>\n",
              "      <td>0</td>\n",
              "      <td>0</td>\n",
              "      <td>0</td>\n",
              "      <td>0</td>\n",
              "      <td>0</td>\n",
              "      <td>0</td>\n",
              "      <td>0</td>\n",
              "      <td>0</td>\n",
              "      <td>0</td>\n",
              "      <td>0</td>\n",
              "      <td>0</td>\n",
              "      <td>0</td>\n",
              "      <td>0</td>\n",
              "      <td>0</td>\n",
              "      <td>0</td>\n",
              "      <td>0</td>\n",
              "      <td>0</td>\n",
              "      <td>0</td>\n",
              "      <td>0</td>\n",
              "      <td>0</td>\n",
              "      <td>0.0</td>\n",
              "      <td>0.0</td>\n",
              "      <td>0.0</td>\n",
              "      <td>1.0</td>\n",
              "      <td>0.0</td>\n",
              "      <td>0.0</td>\n",
              "      <td>0.0</td>\n",
              "      <td>0.0</td>\n",
              "      <td>0.0</td>\n",
              "      <td>0.0</td>\n",
              "      <td>1.0</td>\n",
              "      <td>1.0</td>\n",
              "      <td>0.0</td>\n",
              "      <td>0.0</td>\n",
              "      <td>0.0</td>\n",
              "    </tr>\n",
              "    <tr>\n",
              "      <th>2</th>\n",
              "      <td>361899</td>\n",
              "      <td>256165.867446</td>\n",
              "      <td>1</td>\n",
              "      <td>3</td>\n",
              "      <td>2012</td>\n",
              "      <td>197596.0</td>\n",
              "      <td>26000000.0</td>\n",
              "      <td>37397291.0</td>\n",
              "      <td>7.3</td>\n",
              "      <td>115.763675</td>\n",
              "      <td>58.0</td>\n",
              "      <td>2.646667</td>\n",
              "      <td>0</td>\n",
              "      <td>0</td>\n",
              "      <td>1</td>\n",
              "      <td>0</td>\n",
              "      <td>1</td>\n",
              "      <td>0</td>\n",
              "      <td>0</td>\n",
              "      <td>0</td>\n",
              "      <td>0</td>\n",
              "      <td>0</td>\n",
              "      <td>0</td>\n",
              "      <td>0</td>\n",
              "      <td>0</td>\n",
              "      <td>0</td>\n",
              "      <td>0</td>\n",
              "      <td>0</td>\n",
              "      <td>0</td>\n",
              "      <td>0</td>\n",
              "      <td>0</td>\n",
              "      <td>0</td>\n",
              "      <td>0</td>\n",
              "      <td>0</td>\n",
              "      <td>0</td>\n",
              "      <td>0</td>\n",
              "      <td>0</td>\n",
              "      <td>0</td>\n",
              "      <td>0</td>\n",
              "      <td>0.0</td>\n",
              "      <td>0.0</td>\n",
              "      <td>0.0</td>\n",
              "      <td>0.0</td>\n",
              "      <td>1.0</td>\n",
              "      <td>0.0</td>\n",
              "      <td>0.0</td>\n",
              "      <td>0.0</td>\n",
              "      <td>0.0</td>\n",
              "      <td>0.0</td>\n",
              "      <td>1.0</td>\n",
              "      <td>0.0</td>\n",
              "      <td>0.0</td>\n",
              "      <td>1.0</td>\n",
              "      <td>0.0</td>\n",
              "    </tr>\n",
              "    <tr>\n",
              "      <th>3</th>\n",
              "      <td>308314</td>\n",
              "      <td>196622.720996</td>\n",
              "      <td>3</td>\n",
              "      <td>4</td>\n",
              "      <td>2008</td>\n",
              "      <td>356339.0</td>\n",
              "      <td>15000000.0</td>\n",
              "      <td>15700000.0</td>\n",
              "      <td>7.6</td>\n",
              "      <td>130.703583</td>\n",
              "      <td>94.0</td>\n",
              "      <td>1.666667</td>\n",
              "      <td>1</td>\n",
              "      <td>1</td>\n",
              "      <td>1</td>\n",
              "      <td>0</td>\n",
              "      <td>0</td>\n",
              "      <td>1</td>\n",
              "      <td>1</td>\n",
              "      <td>1</td>\n",
              "      <td>0</td>\n",
              "      <td>0</td>\n",
              "      <td>0</td>\n",
              "      <td>0</td>\n",
              "      <td>0</td>\n",
              "      <td>0</td>\n",
              "      <td>0</td>\n",
              "      <td>0</td>\n",
              "      <td>0</td>\n",
              "      <td>0</td>\n",
              "      <td>0</td>\n",
              "      <td>0</td>\n",
              "      <td>0</td>\n",
              "      <td>0</td>\n",
              "      <td>0</td>\n",
              "      <td>0</td>\n",
              "      <td>0</td>\n",
              "      <td>0</td>\n",
              "      <td>0</td>\n",
              "      <td>0.0</td>\n",
              "      <td>0.0</td>\n",
              "      <td>1.0</td>\n",
              "      <td>0.0</td>\n",
              "      <td>0.0</td>\n",
              "      <td>0.0</td>\n",
              "      <td>0.0</td>\n",
              "      <td>0.0</td>\n",
              "      <td>0.0</td>\n",
              "      <td>0.0</td>\n",
              "      <td>1.0</td>\n",
              "      <td>1.0</td>\n",
              "      <td>0.0</td>\n",
              "      <td>0.0</td>\n",
              "      <td>0.0</td>\n",
              "    </tr>\n",
              "    <tr>\n",
              "      <th>4</th>\n",
              "      <td>307201</td>\n",
              "      <td>159841.652064</td>\n",
              "      <td>1</td>\n",
              "      <td>3</td>\n",
              "      <td>2013</td>\n",
              "      <td>46720.0</td>\n",
              "      <td>27220000.0</td>\n",
              "      <td>8551228.0</td>\n",
              "      <td>6.4</td>\n",
              "      <td>105.545533</td>\n",
              "      <td>37.0</td>\n",
              "      <td>3.066667</td>\n",
              "      <td>0</td>\n",
              "      <td>1</td>\n",
              "      <td>0</td>\n",
              "      <td>0</td>\n",
              "      <td>1</td>\n",
              "      <td>0</td>\n",
              "      <td>1</td>\n",
              "      <td>1</td>\n",
              "      <td>0</td>\n",
              "      <td>0</td>\n",
              "      <td>0</td>\n",
              "      <td>0</td>\n",
              "      <td>0</td>\n",
              "      <td>0</td>\n",
              "      <td>0</td>\n",
              "      <td>0</td>\n",
              "      <td>0</td>\n",
              "      <td>0</td>\n",
              "      <td>0</td>\n",
              "      <td>0</td>\n",
              "      <td>0</td>\n",
              "      <td>0</td>\n",
              "      <td>0</td>\n",
              "      <td>0</td>\n",
              "      <td>0</td>\n",
              "      <td>0</td>\n",
              "      <td>0</td>\n",
              "      <td>0.0</td>\n",
              "      <td>0.0</td>\n",
              "      <td>0.0</td>\n",
              "      <td>0.0</td>\n",
              "      <td>1.0</td>\n",
              "      <td>0.0</td>\n",
              "      <td>0.0</td>\n",
              "      <td>0.0</td>\n",
              "      <td>0.0</td>\n",
              "      <td>0.0</td>\n",
              "      <td>1.0</td>\n",
              "      <td>1.0</td>\n",
              "      <td>0.0</td>\n",
              "      <td>0.0</td>\n",
              "      <td>0.0</td>\n",
              "    </tr>\n",
              "  </tbody>\n",
              "</table>\n",
              "</div>"
            ],
            "text/plain": [
              "   video_id    cvt_per_day  ...  import_id_other  import_id_paramount\n",
              "0    385504  307127.605608  ...              0.0                  0.0\n",
              "1    300175  270338.426375  ...              0.0                  0.0\n",
              "2    361899  256165.867446  ...              1.0                  0.0\n",
              "3    308314  196622.720996  ...              0.0                  0.0\n",
              "4    307201  159841.652064  ...              0.0                  0.0\n",
              "\n",
              "[5 rows x 54 columns]"
            ]
          },
          "metadata": {},
          "execution_count": 21
        }
      ]
    },
    {
      "cell_type": "code",
      "metadata": {
        "colab": {
          "base_uri": "https://localhost:8080/"
        },
        "id": "iqPbWbLgtS_n",
        "outputId": "8f2647f2-ec12-474d-bc73-7d65b62d3470"
      },
      "source": [
        "# split to 0.8 train and 0.2 test \n",
        "from sklearn import model_selection\n",
        "y = df['cvt_per_day']\n",
        "x = df.drop(['video_id', 'cvt_per_day'], axis=1)\n",
        "x_train, x_test, y_train, y_test = model_selection.train_test_split(x, y, test_size=0.2)\n",
        "\n",
        "print('training data has ' + str(x_train.shape[0]) + ' observation with ' + str(x_train.shape[1]) + ' features')\n",
        "print('test data has ' + str(x_test.shape[0]) + ' observation with ' + str(x_test.shape[1]) + ' features')"
      ],
      "execution_count": 22,
      "outputs": [
        {
          "output_type": "stream",
          "name": "stdout",
          "text": [
            "training data has 3380 observation with 52 features\n",
            "test data has 846 observation with 52 features\n"
          ]
        }
      ]
    },
    {
      "cell_type": "code",
      "metadata": {
        "id": "4hbmqd4n2Vto"
      },
      "source": [
        "from sklearn.linear_model import LinearRegression\n",
        "from sklearn.ensemble import RandomForestRegressor\n",
        "from sklearn.ensemble import GradientBoostingRegressor\n",
        "from xgboost import XGBRegressor\n",
        "\n",
        "# linear regression\n",
        "regression_linear = LinearRegression()\n",
        "\n",
        "# random forest\n",
        "regression_rf = RandomForestRegressor()\n",
        "\n",
        "# gradient boosting\n",
        "regression_gbm = GradientBoostingRegressor()\n",
        "\n",
        "# xgboost\n",
        "regression_xgboost = XGBRegressor()"
      ],
      "execution_count": 23,
      "outputs": []
    },
    {
      "cell_type": "code",
      "metadata": {
        "colab": {
          "base_uri": "https://localhost:8080/"
        },
        "id": "kSshJs8_8_Gj",
        "outputId": "8c95393b-34a2-42df-855b-f2481d62356e"
      },
      "source": [
        "# use 5-fold cross validation to get the accuracy for different models\n",
        "model_names = ['Linear Regression', 'Random Forest', 'Gradient Boosting', 'xgboost']\n",
        "model_list = [regression_linear, regression_rf, regression_gbm, regression_xgboost]\n",
        "count = 0\n",
        "\n",
        "for model in model_list:\n",
        "    cv_score = model_selection.cross_val_score(model, x_train, y_train, cv=5)\n",
        "    print(cv_score)\n",
        "    print('Model accuracy of ' + model_names[count] + ' is ' + str(cv_score.mean()))\n",
        "    print()\n",
        "    count += 1"
      ],
      "execution_count": 24,
      "outputs": [
        {
          "output_type": "stream",
          "name": "stdout",
          "text": [
            "[0.20258332 0.3091821  0.21174143 0.21193574 0.19696468]\n",
            "Model accuracy of Linear Regression is 0.2264814542879742\n",
            "\n",
            "[0.52150619 0.73004094 0.67551674 0.524455   0.46668076]\n",
            "Model accuracy of Random Forest is 0.5836399251874658\n",
            "\n",
            "[0.43259604 0.58697508 0.6684279  0.49859931 0.47704485]\n",
            "Model accuracy of Gradient Boosting is 0.5327286353039762\n",
            "\n",
            "[16:35:29] WARNING: /workspace/src/objective/regression_obj.cu:152: reg:linear is now deprecated in favor of reg:squarederror.\n",
            "[16:35:30] WARNING: /workspace/src/objective/regression_obj.cu:152: reg:linear is now deprecated in favor of reg:squarederror.\n",
            "[16:35:30] WARNING: /workspace/src/objective/regression_obj.cu:152: reg:linear is now deprecated in favor of reg:squarederror.\n",
            "[16:35:31] WARNING: /workspace/src/objective/regression_obj.cu:152: reg:linear is now deprecated in favor of reg:squarederror.\n",
            "[16:35:31] WARNING: /workspace/src/objective/regression_obj.cu:152: reg:linear is now deprecated in favor of reg:squarederror.\n",
            "[0.65383378 0.7018044  0.65118217 0.47656199 0.50773208]\n",
            "Model accuracy of xgboost is 0.5982228842610593\n",
            "\n"
          ]
        }
      ]
    },
    {
      "cell_type": "code",
      "metadata": {
        "id": "rsXYPH2sGqnK"
      },
      "source": [
        "from sklearn.model_selection import GridSearchCV\n",
        "\n",
        "# helper function for printing out grid search results \n",
        "def print_grid_search_metrics(gs):\n",
        "    print (\"Best score: \" + str(gs.best_score_))\n",
        "    print (\"Best parameters set:\")\n",
        "    best_parameters = gs.best_params_\n",
        "    for param_name in sorted(best_parameters.keys()):\n",
        "        print(param_name + ':' + str(best_parameters[param_name]))"
      ],
      "execution_count": 25,
      "outputs": []
    },
    {
      "cell_type": "code",
      "metadata": {
        "colab": {
          "base_uri": "https://localhost:8080/"
        },
        "id": "kveKKgGWG15d",
        "outputId": "d0697020-6f0a-4761-a873-80e8310f475f"
      },
      "source": [
        "# possible hyperparamter options for random forest\n",
        "\n",
        "parameters = {\n",
        "    'n_estimators' : [60, 80, 100, 1000],\n",
        "    'max_depth': [1, 5, 10, 100]\n",
        "}\n",
        "Grid_RF = GridSearchCV(RandomForestRegressor(), parameters, cv=5)\n",
        "Grid_RF.fit(x_train, y_train)\n",
        "\n",
        "print_grid_search_metrics(Grid_RF)"
      ],
      "execution_count": 26,
      "outputs": [
        {
          "output_type": "stream",
          "name": "stdout",
          "text": [
            "Best score: 0.5866547437410601\n",
            "Best parameters set:\n",
            "max_depth:100\n",
            "n_estimators:60\n"
          ]
        }
      ]
    },
    {
      "cell_type": "code",
      "metadata": {
        "id": "K9BmBXdwJJh0"
      },
      "source": [
        "# best rf model\n",
        "best_RF_model = Grid_RF.best_estimator_"
      ],
      "execution_count": 27,
      "outputs": []
    },
    {
      "cell_type": "code",
      "metadata": {
        "colab": {
          "base_uri": "https://localhost:8080/"
        },
        "id": "uf0K9o54IGtt",
        "outputId": "0588a519-8e2f-45db-cf3e-3b8cb1a32c0c"
      },
      "source": [
        "# possible hyperparamter options for gradient boosting\n",
        "parameters = {\n",
        "    'n_estimators': [500, 1000, 2000],\n",
        "    'learning_rate': [0.001, 0.01, .1],\n",
        "    'max_depth': [1, 2, 4],\n",
        "    'subsample': [.5, .75, 1],\n",
        "    'random_state': [1]\n",
        "}\n",
        "Grid_gbm = GridSearchCV(GradientBoostingRegressor(), parameters, cv=5)\n",
        "Grid_gbm.fit(x_train, y_train)\n",
        "\n",
        "print_grid_search_metrics(Grid_gbm)"
      ],
      "execution_count": 28,
      "outputs": [
        {
          "output_type": "stream",
          "name": "stdout",
          "text": [
            "Best score: 0.5761203708047036\n",
            "Best parameters set:\n",
            "learning_rate:0.01\n",
            "max_depth:4\n",
            "n_estimators:500\n",
            "random_state:1\n",
            "subsample:0.75\n"
          ]
        }
      ]
    },
    {
      "cell_type": "code",
      "metadata": {
        "id": "e-Hwttjac7cs"
      },
      "source": [
        "# best gbm model\n",
        "best_gbm_model = Grid_gbm.best_estimator_"
      ],
      "execution_count": 29,
      "outputs": []
    },
    {
      "cell_type": "code",
      "metadata": {
        "colab": {
          "base_uri": "https://localhost:8080/"
        },
        "id": "x6aIt4H22_jr",
        "outputId": "03386565-1f37-4da9-a0c6-d432ba793b4a"
      },
      "source": [
        "# evaluation\n",
        "# random forest\n",
        "from sklearn.metrics import mean_squared_error\n",
        "pred_y = best_RF_model.predict(x_test)\n",
        "rf_score = best_RF_model.score(x_test, y_test)\n",
        "MSE_rf = mean_squared_error(y_test, pred_y)\n",
        "RMSE_rf = np.sqrt(MSE_rf)\n",
        "print ('rf score: ', rf_score)\n",
        "print ('Mean square error of rf: ', MSE_rf)\n",
        "print ('Root mean squared error of rf:', RMSE_rf)"
      ],
      "execution_count": 35,
      "outputs": [
        {
          "output_type": "stream",
          "name": "stdout",
          "text": [
            "rf score:  0.617900796635644\n",
            "Mean square error of rf:  75021988.90639561\n",
            "Root mean squared error of rf: 8661.523474908765\n"
          ]
        }
      ]
    },
    {
      "cell_type": "code",
      "metadata": {
        "colab": {
          "base_uri": "https://localhost:8080/"
        },
        "id": "nPmkcXZJ5s2u",
        "outputId": "419c50df-1a95-4a33-c2db-b2ffb673accb"
      },
      "source": [
        "# gradient boosting\n",
        "pred_y = best_gbm_model.predict(x_test)\n",
        "gbm_score = best_gbm_model.score(x_test, y_test)\n",
        "MSE_gbm = mean_squared_error(y_test, pred_y)\n",
        "RMSE_gbm = np.sqrt(MSE_gbm)\n",
        "print ('gbm score: ', gbm_score)\n",
        "print ('Mean square error of gbm: ', MSE_gbm)\n",
        "print ('Root mean squared error of gbm:', RMSE_gbm)"
      ],
      "execution_count": 34,
      "outputs": [
        {
          "output_type": "stream",
          "name": "stdout",
          "text": [
            "gbm score:  0.641426034405185\n",
            "Mean square error of gbm:  70403004.85349281\n",
            "Root mean squared error of gbm: 8390.649846912504\n"
          ]
        }
      ]
    },
    {
      "cell_type": "code",
      "metadata": {
        "colab": {
          "base_uri": "https://localhost:8080/",
          "height": 828
        },
        "id": "430J57eJ59vp",
        "outputId": "d4ce8004-b063-49ef-c91f-8e93754a5a6f"
      },
      "source": [
        "# compare two models\n",
        "lst_score = [rf_score, gbm_score]\n",
        "MSE_lst =  [MSE_rf, MSE_gbm]\n",
        "RMSE_lst =  [RMSE_rf, RMSE_gbm]\n",
        "model_lst = ['Random forest', 'Gradient boosting']\n",
        "\n",
        "plt.figure(1)\n",
        "plt.plot(model_lst, lst_score, 'ro')\n",
        "plt.legend(['r-squre / score'])\n",
        "plt.xlabel('model names',fontsize =16)\n",
        "plt.ylabel('score / r square', fontsize =16)\n",
        "plt.grid(True)\n",
        "plt.show()\n",
        "\n",
        "plt.figure(2)\n",
        "plt.plot(model_lst, MSE_lst, 'g^')\n",
        "plt.legend(['mean square error (MSE)'])\n",
        "plt.xlabel('model names', fontsize =16)\n",
        "plt.ylabel('mean square error', fontsize =16)\n",
        "plt.grid(True)\n",
        "plt.show()\n",
        "\n",
        "plt.figure(3)\n",
        "plt.plot(model_lst, RMSE_lst, 'bs')\n",
        "plt.legend(['root mean square error (RMSE)'])\n",
        "plt.xlabel('model names', fontsize =16)\n",
        "plt.ylabel('root mean square error', fontsize =16)\n",
        "plt.grid(True)\n",
        "plt.show()"
      ],
      "execution_count": 36,
      "outputs": [
        {
          "output_type": "display_data",
          "data": {
            "image/png": "[encoded data removed]",
            "text/plain": [
              "<Figure size 432x288 with 1 Axes>"
            ]
          },
          "metadata": {
            "needs_background": "light"
          }
        },
        {
          "output_type": "display_data",
          "data": {
            "image/png": "[encoded data removed]",
            "text/plain": [
              "<Figure size 432x288 with 1 Axes>"
            ]
          },
          "metadata": {
            "needs_background": "light"
          }
        },
        {
          "output_type": "display_data",
          "data": {
            "image/png": "[encoded data removed]",
            "text/plain": [
              "<Figure size 432x288 with 1 Axes>"
            ]
          },
          "metadata": {
            "needs_background": "light"
          }
        }
      ]
    },
    {
      "cell_type": "code",
      "metadata": {
        "colab": {
          "base_uri": "https://localhost:8080/",
          "height": 406
        },
        "id": "m7Hbh45S6njR",
        "outputId": "35b53047-4f6b-4d6c-baf6-8f87a70cdc8b"
      },
      "source": [
        "# according to the comparison, gradient boosting is the better model\n",
        "# feature importance\n",
        "importances = best_gbm_model.feature_importances_\n",
        "feature_name = x_train.columns.values\n",
        "indices = np.argsort(importances)[::-1]\n",
        "plt.figure(1)\n",
        "plt.bar(feature_name[indices[:20]], importances[indices[:20]])\n",
        "plt.xticks(rotation=90)\n",
        "plt.show()"
      ],
      "execution_count": 37,
      "outputs": [
        {
          "output_type": "display_data",
          "data": {
            "image/png": "[encoded data removed]",
            "text/plain": [
              "<Figure size 432x288 with 1 Axes>"
            ]
          },
          "metadata": {
            "needs_background": "light"
          }
        }
      ]
    }
  ]
}